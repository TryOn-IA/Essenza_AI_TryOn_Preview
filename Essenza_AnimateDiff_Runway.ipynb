{
 "cells": [
  {
   "cell_type": "markdown",
   "id": "8abe2adb",
   "metadata": {},
   "source": [
    "# 💃 AnimateDiff - Défilé de Mode\n",
    "Génère une vidéo IA réaliste où le modèle marche et tourne comme sur un podium."
   ]
  },
  {
   "cell_type": "code",
   "execution_count": null,
   "id": "b4dee407",
   "metadata": {},
   "outputs": [],
   "source": [
    "!pip install -q diffusers transformers accelerate safetensors"
   ]
  },
  {
   "cell_type": "code",
   "execution_count": null,
   "id": "926b5cb3",
   "metadata": {},
   "outputs": [],
   "source": [
    "!git clone https://github.com/guoyww/AnimateDiff.git\n",
    "%cd AnimateDiff"
   ]
  },
  {
   "cell_type": "code",
   "execution_count": null,
   "id": "e9ce40cc",
   "metadata": {},
   "outputs": [],
   "source": [
    "from google.colab import files\n",
    "uploaded = files.upload()"
   ]
  },
  {
   "cell_type": "code",
   "execution_count": null,
   "id": "03eb65a4",
   "metadata": {},
   "outputs": [],
   "source": [
    "import os, shutil\n",
    "os.makedirs('input_images', exist_ok=True)\n",
    "if 'result.jpg' in uploaded:\n",
    "    shutil.move('result.jpg', 'input_images/result.jpg')\n",
    "else:\n",
    "    raise ValueError(\"Veuillez nommer votre image 'result.jpg'\")"
   ]
  },
  {
   "cell_type": "code",
   "execution_count": null,
   "id": "fc335c56",
   "metadata": {},
   "outputs": [],
   "source": [
    "from diffusers import AnimateDiffPipeline\n",
    "import torch\n",
    "from PIL import Image\n",
    "\n",
    "model_id = \"guoyww/animatediff-fashion-show\"\n",
    "pipe = AnimateDiffPipeline.from_pretrained(model_id, torch_dtype=torch.float16)\n",
    "pipe = pipe.to(\"cuda\")"
   ]
  },
  {
   "cell_type": "code",
   "execution_count": null,
   "id": "2b3eeb06",
   "metadata": {},
   "outputs": [],
   "source": [
    "image = Image.open(\"input_images/result.jpg\").convert(\"RGB\")\n",
    "video_frames = pipe(image, num_frames=16, guidance_scale=7.5).frames"
   ]
  },
  {
   "cell_type": "code",
   "execution_count": null,
   "id": "8232bea5",
   "metadata": {},
   "outputs": [],
   "source": [
    "import imageio\n",
    "video_path = \"fashion_runway_animation.mp4\"\n",
    "imageio.mimsave(video_path, video_frames, fps=8)"
   ]
  },
  {
   "cell_type": "code",
   "execution_count": null,
   "id": "ebcf92e3",
   "metadata": {},
   "outputs": [],
   "source": [
    "files.download(video_path)"
   ]
  }
 ],
 "metadata": {},
 "nbformat": 4,
 "nbformat_minor": 5
}
